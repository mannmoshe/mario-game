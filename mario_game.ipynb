{
  "nbformat": 4,
  "nbformat_minor": 0,
  "metadata": {
    "colab": {
      "provenance": [],
      "toc_visible": true,
      "include_colab_link": true
    },
    "kernelspec": {
      "name": "python3",
      "display_name": "Python 3"
    },
    "language_info": {
      "name": "python"
    }
  },
  "cells": [
    {
      "cell_type": "markdown",
      "metadata": {
        "id": "view-in-github",
        "colab_type": "text"
      },
      "source": [
        "<a href=\"https://colab.research.google.com/github/mannmoshe/mario-game/blob/main/mario_game.ipynb\" target=\"_parent\"><img src=\"https://colab.research.google.com/assets/colab-badge.svg\" alt=\"Open In Colab\"/></a>"
      ]
    },
    {
      "cell_type": "markdown",
      "source": [
        "# Mario Game"
      ],
      "metadata": {
        "id": "cvLkGYA1FYfp"
      }
    },
    {
      "cell_type": "code",
      "execution_count": 1,
      "metadata": {
        "id": "wN9ECV6SFQo4"
      },
      "outputs": [],
      "source": [
        "import numpy as np"
      ]
    },
    {
      "cell_type": "code",
      "source": [
        "class MarioGame:\n",
        "  \n",
        "  def __init__(self):\n",
        "    self.state = np.array([['M', 2, 'B'], [4, 'Q', 6]])\n",
        "    self.payoff = (0, 0)\n",
        "\n",
        "  # u = up, r = right, l = left\n",
        "\n",
        "  def uu(self):\n",
        "    p = np.random.choice(np.arange(1, 5), p=[2/9, 4/9, 1/9, 2/9])\n",
        "    if p == 1:\n",
        "      pass\n",
        "    elif p == 2:\n",
        "      self.state = np.array([[1, 2, 'B'], ['M', 'Q', 6]])\n",
        "\n",
        "    elif p == 3:\n",
        "      self.state = np.array([['M', 2, 3], [4, 'Q', 'B']])\n",
        "\n",
        "    elif p == 4:\n",
        "      self.state = np.array([[1, 2, 3], ['M', 'Q', 'B']])\n",
        "\n",
        "  def rl(self):\n",
        "    # c = fight champion\n",
        "    c = .5\n",
        "    p = np.random.choice(np.arange(1, 3), p=[3/5, 2/5])\n",
        "    if p == 1:\n",
        "      self.state = np.array([['M', 'B', 3], [4, 'Q', 6]])\n",
        "      self.payoff = (-c, c) \n",
        "    elif p == 2:\n",
        "      self.state = np.array([[1, 'M', 'B'], [4, 'Q', 6]])\n",
        "      self.payoff = (c, -c)\n",
        "\n",
        "  def ul(self):\n",
        "    p = np.random.choice(np.arange(1, 3), p=[1/3, 2/3])\n",
        "    if p == 1:\n",
        "      self.state = np.array([['M', 'B', 3], [4, 'Q', 6]])\n",
        "    elif p == 2:\n",
        "      self.state = np.array([[1, 'B', 3], ['M', 'Q', 6]])\n",
        "\n",
        "  def ru(self):\n",
        "    p = np.random.choice(np.arange(1, 3), p=[2/3, 1/3])\n",
        "    if p == 1:\n",
        "      self.state = np.array([[1, 'M', 'B'], [4, 'Q', 6]])\n",
        "    elif p == 2:\n",
        "      self.state = np.array([[1, 'M', 3], [4, 'Q', 'B']])\n",
        "\n",
        "    pass\n"
      ],
      "metadata": {
        "id": "uhGSMX0mOGfK"
      },
      "execution_count": 12,
      "outputs": []
    },
    {
      "cell_type": "code",
      "source": [
        "g = MarioGame()"
      ],
      "metadata": {
        "id": "3Ovgr8pgikqx"
      },
      "execution_count": 13,
      "outputs": []
    },
    {
      "cell_type": "code",
      "source": [
        "g.rl()"
      ],
      "metadata": {
        "id": "gbmYuo1Bipvd"
      },
      "execution_count": 14,
      "outputs": []
    },
    {
      "cell_type": "code",
      "source": [
        "g.state"
      ],
      "metadata": {
        "id": "wfYJITBDjgFj",
        "outputId": "c7390c2a-75cf-4684-ae91-1478910b7141",
        "colab": {
          "base_uri": "https://localhost:8080/"
        }
      },
      "execution_count": 15,
      "outputs": [
        {
          "output_type": "execute_result",
          "data": {
            "text/plain": [
              "array([['1', 'M', 'B'],\n",
              "       ['4', 'Q', '6']], dtype='<U21')"
            ]
          },
          "metadata": {},
          "execution_count": 15
        }
      ]
    },
    {
      "cell_type": "code",
      "source": [
        "g.payoff"
      ],
      "metadata": {
        "id": "IoA5v_FRkA7i",
        "outputId": "4d5dce63-e292-44e9-e1ce-fe4ad629d290",
        "colab": {
          "base_uri": "https://localhost:8080/"
        }
      },
      "execution_count": 16,
      "outputs": [
        {
          "output_type": "execute_result",
          "data": {
            "text/plain": [
              "(0.5, -0.5)"
            ]
          },
          "metadata": {},
          "execution_count": 16
        }
      ]
    }
  ]
}