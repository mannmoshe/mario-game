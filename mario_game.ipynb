{
  "nbformat": 4,
  "nbformat_minor": 0,
  "metadata": {
    "colab": {
      "provenance": [],
      "toc_visible": true,
      "include_colab_link": true
    },
    "kernelspec": {
      "name": "python3",
      "display_name": "Python 3"
    },
    "language_info": {
      "name": "python"
    }
  },
  "cells": [
    {
      "cell_type": "markdown",
      "metadata": {
        "id": "view-in-github",
        "colab_type": "text"
      },
      "source": [
        "<a href=\"https://colab.research.google.com/github/mannmoshe/mario-game/blob/main/mario_game.ipynb\" target=\"_parent\"><img src=\"https://colab.research.google.com/assets/colab-badge.svg\" alt=\"Open In Colab\"/></a>"
      ]
    },
    {
      "cell_type": "markdown",
      "source": [
        "# Mario Game"
      ],
      "metadata": {
        "id": "cvLkGYA1FYfp"
      }
    },
    {
      "cell_type": "code",
      "execution_count": 1,
      "metadata": {
        "id": "wN9ECV6SFQo4"
      },
      "outputs": [],
      "source": [
        "import numpy as np"
      ]
    },
    {
      "cell_type": "code",
      "source": [
        "# u = up, r = right, l = left\n",
        "# c = fight champion\n",
        "c = .5\n",
        "\n",
        "class MarioGame:\n",
        "  \n",
        "  def __init__(self):\n",
        "    self.state = np.array([['M', 2, 'B'], [4, 'Q', 6]])\n",
        "    self.payoff = (0, 0)\n",
        "  \n",
        "  def uu(self):\n",
        "    p = np.random.choice(np.arange(1, 5), p=[2/9, 4/9, 1/9, 2/9])\n",
        "    if p == 1:\n",
        "      pass\n",
        "    elif p == 2:\n",
        "      self.state = np.array([[1, 2, 'B'], ['M', 'Q', 6]])\n",
        "\n",
        "    elif p == 3:\n",
        "      self.state = np.array([['M', 2, 3], [4, 'Q', 'B']])\n",
        "\n",
        "    elif p == 4:\n",
        "      self.state = np.array([[1, 2, 3], ['M', 'Q', 'B']])\n",
        "\n",
        "  def rl(self):       \n",
        "    p = np.random.choice(np.arange(1, 3), p=[3/5, 2/5])\n",
        "    if p == 1:\n",
        "      self.state = np.array([['M', 'B', 3], [4, 'Q', 6]])\n",
        "      self.payoff = (-c, c) \n",
        "    elif p == 2:\n",
        "      self.state = np.array([[1, 'M', 'B'], [4, 'Q', 6]])\n",
        "      self.payoff = (c, -c)\n",
        "\n",
        "  def ul(self):\n",
        "    p = np.random.choice(np.arange(1, 3), p=[1/3, 2/3])\n",
        "    if p == 1:\n",
        "      self.state = np.array([['M', 'B', 3], [4, 'Q', 6]])\n",
        "    elif p == 2:\n",
        "      self.state = np.array([[1, 'B', 3], ['M', 'Q', 6]])\n",
        "\n",
        "  def ru(self):\n",
        "    p = np.random.choice(np.arange(1, 3), p=[2/3, 1/3])\n",
        "    if p == 1:\n",
        "      self.state = np.array([[1, 'M', 'B'], [4, 'Q', 6]])\n",
        "    elif p == 2:\n",
        "      self.state = np.array([[1, 'M', 3], [4, 'Q', 'B']])\n",
        "\n",
        "  def next_step(self):\n",
        "    if (self.state == np.array([[1, 2, 3], ['M', 'Q', 'B']])).all():\n",
        "      p = np.random.choice(np.arange(1, 3), p=[3/5, 2/5])\n",
        "      if p == 1:\n",
        "        self.state = 'q2'\n",
        "        self.payoff = (-1-c, 1+c)\n",
        "      elif p == 2:\n",
        "        self.state = 'q1'\n",
        "        self.payoff = (1+c, -1-c)\n",
        "    \n",
        "    elif (self.state == np.array([[1, 'B', 3], ['M', 'Q', 6]])).all():\n",
        "      p = np.random.choice(np.arange(1, 3), p=[1/4, 3/4]) \n",
        "      if p == 1:\n",
        "        self.state = 'q2'\n",
        "        self.payoff = (-1, 1)\n",
        "      elif p == 2:\n",
        "        self.state = 'q1'\n",
        "        self.payoff = (1, -1) \n",
        "\n",
        "    elif (self.state == np.array([[1, 'M', 3], [4, 'Q', 'B']])).all():\n",
        "      p = np.random.choice(np.arange(1, 3), p=[3/4, 1/4])\n",
        "      if p == 1:\n",
        "        self.state = 'q2'\n",
        "        self.payoff = (-1, 1)\n",
        "      elif p == 2:\n",
        "        self.state = 'q1'\n",
        "        self.payoff = (1, -1)\n",
        "\n",
        "    elif (self.state == np.array([['M', 'B', 3], [4, 'Q', 6]])).all() | (self.state == np.array([['M', 2, 3], [4, 'Q', 'B']])).all():\n",
        "      self.state = 'q2'\n",
        "      self.payoff = (-1, 1)\n",
        "\n",
        "    elif (self.state == np.array([[1, 'M', 'B'], [4, 'Q', 6]])).all() | (self.state == np.array([[1, 2, 'B'], ['M', 'Q', 6]])).all():\n",
        "      self.state = 'q1'\n",
        "      self.payoff = (1, -1)\n",
        "\n",
        "    pass\n"
      ],
      "metadata": {
        "id": "uhGSMX0mOGfK"
      },
      "execution_count": 29,
      "outputs": []
    },
    {
      "cell_type": "code",
      "source": [
        "g = MarioGame()"
      ],
      "metadata": {
        "id": "3Ovgr8pgikqx"
      },
      "execution_count": 30,
      "outputs": []
    },
    {
      "cell_type": "code",
      "source": [
        "g.rl()"
      ],
      "metadata": {
        "id": "gbmYuo1Bipvd"
      },
      "execution_count": 31,
      "outputs": []
    },
    {
      "cell_type": "code",
      "source": [
        "g.state"
      ],
      "metadata": {
        "colab": {
          "base_uri": "https://localhost:8080/"
        },
        "id": "wfYJITBDjgFj",
        "outputId": "916bcd10-eb13-44fd-d704-2865ab613a45"
      },
      "execution_count": 32,
      "outputs": [
        {
          "output_type": "execute_result",
          "data": {
            "text/plain": [
              "array([['M', 'B', '3'],\n",
              "       ['4', 'Q', '6']], dtype='<U21')"
            ]
          },
          "metadata": {},
          "execution_count": 32
        }
      ]
    },
    {
      "cell_type": "code",
      "source": [
        "g.payoff"
      ],
      "metadata": {
        "colab": {
          "base_uri": "https://localhost:8080/"
        },
        "id": "IoA5v_FRkA7i",
        "outputId": "4ea03766-2a1f-4a55-cb7e-c31638a27906"
      },
      "execution_count": 33,
      "outputs": [
        {
          "output_type": "execute_result",
          "data": {
            "text/plain": [
              "(-0.5, 0.5)"
            ]
          },
          "metadata": {},
          "execution_count": 33
        }
      ]
    },
    {
      "cell_type": "code",
      "source": [
        "g.next_step()"
      ],
      "metadata": {
        "id": "JXWTqlE6DXKF"
      },
      "execution_count": 34,
      "outputs": []
    },
    {
      "cell_type": "code",
      "source": [
        "g.state"
      ],
      "metadata": {
        "id": "5bzjRzRoDZr6",
        "outputId": "35b95f13-3b12-4eab-ccd7-5116c7bd8f31",
        "colab": {
          "base_uri": "https://localhost:8080/",
          "height": 35
        }
      },
      "execution_count": 35,
      "outputs": [
        {
          "output_type": "execute_result",
          "data": {
            "text/plain": [
              "'q2'"
            ],
            "application/vnd.google.colaboratory.intrinsic+json": {
              "type": "string"
            }
          },
          "metadata": {},
          "execution_count": 35
        }
      ]
    },
    {
      "cell_type": "code",
      "source": [
        "g.payoff"
      ],
      "metadata": {
        "id": "eJBM-QJDDcLS",
        "outputId": "03525440-3619-4fcf-f5d3-14b1e30e096c",
        "colab": {
          "base_uri": "https://localhost:8080/"
        }
      },
      "execution_count": 36,
      "outputs": [
        {
          "output_type": "execute_result",
          "data": {
            "text/plain": [
              "(-1, 1)"
            ]
          },
          "metadata": {},
          "execution_count": 36
        }
      ]
    }
  ]
}