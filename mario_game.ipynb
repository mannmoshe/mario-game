{
  "nbformat": 4,
  "nbformat_minor": 0,
  "metadata": {
    "colab": {
      "provenance": [],
      "toc_visible": true,
      "include_colab_link": true
    },
    "kernelspec": {
      "name": "python3",
      "display_name": "Python 3"
    },
    "language_info": {
      "name": "python"
    }
  },
  "cells": [
    {
      "cell_type": "markdown",
      "metadata": {
        "id": "view-in-github",
        "colab_type": "text"
      },
      "source": [
        "<a href=\"https://colab.research.google.com/github/mannmoshe/mario-game/blob/main/mario_game.ipynb\" target=\"_parent\"><img src=\"https://colab.research.google.com/assets/colab-badge.svg\" alt=\"Open In Colab\"/></a>"
      ]
    },
    {
      "cell_type": "markdown",
      "source": [
        "# Mario Game"
      ],
      "metadata": {
        "id": "cvLkGYA1FYfp"
      }
    },
    {
      "cell_type": "code",
      "execution_count": 1,
      "metadata": {
        "id": "wN9ECV6SFQo4"
      },
      "outputs": [],
      "source": [
        "import numpy as np"
      ]
    },
    {
      "cell_type": "code",
      "source": [
        "class MarioGame:\n",
        "  \n",
        "  def __init__(self):\n",
        "    self.state = np.array([['M', 2, 'B'], [4, 'Q', 6]])\n",
        "    self.payoff = (0, 0)\n",
        "\n",
        "  def upup(self, state):\n",
        "    p = np.random.choice(np.arange(1, 4), p=[2/9, 4/9, 1/9, 2/9])\n",
        "    if p == 1:\n",
        "      self.state = np.array([['M', 2, 'B'], [4, 'Q', 6]])\n",
        "      self.payoff = (0, 0)\n",
        "    elif p == 2:\n",
        "      self.state = np.array([[1, 2, 'B'], ['M', 'Q', 6]])\n",
        "      self.payoff = (0, 0)\n",
        "    elif p == 3:\n",
        "      self.state = np.array([['M', 2, 3], [4, 'Q', 'B']])\n",
        "      self.payoff = (0, 0)\n",
        "    elif p == 4:\n",
        "      self.state = np.array([[1, 2, 3], ['M', 'Q', 'B']])\n",
        "      self.payoff = (0, 0)\n",
        "    pass\n"
      ],
      "metadata": {
        "id": "uhGSMX0mOGfK"
      },
      "execution_count": null,
      "outputs": []
    }
  ]
}