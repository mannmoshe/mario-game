{
  "nbformat": 4,
  "nbformat_minor": 0,
  "metadata": {
    "colab": {
      "provenance": [],
      "toc_visible": true,
      "include_colab_link": true
    },
    "kernelspec": {
      "name": "python3",
      "display_name": "Python 3"
    },
    "language_info": {
      "name": "python"
    }
  },
  "cells": [
    {
      "cell_type": "markdown",
      "metadata": {
        "id": "view-in-github",
        "colab_type": "text"
      },
      "source": [
        "<a href=\"https://colab.research.google.com/github/mannmoshe/mario-game/blob/main/mario_game.ipynb\" target=\"_parent\"><img src=\"https://colab.research.google.com/assets/colab-badge.svg\" alt=\"Open In Colab\"/></a>"
      ]
    },
    {
      "cell_type": "markdown",
      "source": [
        "# Mario Game <br>\n",
        "## By Ido Nissimian & Moshe Mann"
      ],
      "metadata": {
        "id": "cvLkGYA1FYfp"
      }
    },
    {
      "cell_type": "code",
      "execution_count": null,
      "metadata": {
        "id": "wN9ECV6SFQo4"
      },
      "outputs": [],
      "source": [
        "import numpy as np"
      ]
    },
    {
      "cell_type": "code",
      "source": [
        "# Players: M = Mario, B = Bowser \n",
        "# The goal is to reach to the Q = Queen\n",
        "# Optional moves: u = up, r = right, l = left\n",
        "# c = fight champion's reward\n",
        "c = .5\n",
        "\n",
        "class MarioGame:\n",
        "  \n",
        "  def __init__(self):\n",
        "    self.state = np.array([['M', 2, 'B'], [4, 'Q', 6]])\n",
        "    self.payoff = (0, 0)\n",
        "  \n",
        "  def uu(self):\n",
        "    p = np.random.choice(np.arange(1, 5), p=[2/9, 4/9, 1/9, 2/9])\n",
        "    if p == 1:\n",
        "      pass\n",
        "    elif p == 2:\n",
        "      self.state = np.array([[1, 2, 'B'], ['M', 'Q', 6]])\n",
        "\n",
        "    elif p == 3:\n",
        "      self.state = np.array([['M', 2, 3], [4, 'Q', 'B']])\n",
        "\n",
        "    elif p == 4:\n",
        "      self.state = np.array([[1, 2, 3], ['M', 'Q', 'B']])\n",
        "\n",
        "  def rl(self):       \n",
        "    p = np.random.choice(np.arange(1, 3), p=[3/5, 2/5])\n",
        "    if p == 1:\n",
        "      self.state = np.array([['M', 'B', 3], [4, 'Q', 6]])\n",
        "      self.payoff = (-c, c) \n",
        "    elif p == 2:\n",
        "      self.state = np.array([[1, 'M', 'B'], [4, 'Q', 6]])\n",
        "      self.payoff = (c, -c)\n",
        "\n",
        "  def ul(self):\n",
        "    p = np.random.choice(np.arange(1, 3), p=[1/3, 2/3])\n",
        "    if p == 1:\n",
        "      self.state = np.array([['M', 'B', 3], [4, 'Q', 6]])\n",
        "    elif p == 2:\n",
        "      self.state = np.array([[1, 'B', 3], ['M', 'Q', 6]])\n",
        "\n",
        "  def ru(self):\n",
        "    p = np.random.choice(np.arange(1, 3), p=[2/3, 1/3])\n",
        "    if p == 1:\n",
        "      self.state = np.array([[1, 'M', 'B'], [4, 'Q', 6]])\n",
        "    elif p == 2:\n",
        "      self.state = np.array([[1, 'M', 3], [4, 'Q', 'B']])\n",
        "\n",
        "  def next_step(self):\n",
        "    if (self.state == np.array([[1, 2, 3], ['M', 'Q', 'B']])).all():\n",
        "      p = np.random.choice(np.arange(1, 3), p=[3/5, 2/5])\n",
        "      if p == 1:\n",
        "        self.state = 'q2'\n",
        "        self.payoff = (-1-c, 1+c)\n",
        "      elif p == 2:\n",
        "        self.state = 'q1'\n",
        "        self.payoff = (1+c, -1-c)\n",
        "    \n",
        "    elif (self.state == np.array([[1, 'B', 3], ['M', 'Q', 6]])).all():\n",
        "      p = np.random.choice(np.arange(1, 3), p=[1/4, 3/4]) \n",
        "      if p == 1:\n",
        "        self.state = 'q2'\n",
        "        self.payoff = (-1, 1)\n",
        "      elif p == 2:\n",
        "        self.state = 'q1'\n",
        "        self.payoff = (1, -1) \n",
        "\n",
        "    elif (self.state == np.array([[1, 'M', 3], [4, 'Q', 'B']])).all():\n",
        "      p = np.random.choice(np.arange(1, 3), p=[3/4, 1/4])\n",
        "      if p == 1:\n",
        "        self.state = 'q2'\n",
        "        self.payoff = (-1, 1)\n",
        "      elif p == 2:\n",
        "        self.state = 'q1'\n",
        "        self.payoff = (1, -1)\n",
        "\n",
        "    elif (self.state == np.array([['M', 'B', 3], [4, 'Q', 6]])).all() | (self.state == np.array([['M', 2, 3], [4, 'Q', 'B']])).all():\n",
        "      self.state = 'q2'\n",
        "      self.payoff = (-1, 1)\n",
        "\n",
        "    elif (self.state == np.array([[1, 'M', 'B'], [4, 'Q', 6]])).all() | (self.state == np.array([[1, 2, 'B'], ['M', 'Q', 6]])).all():\n",
        "      self.state = 'q1'\n",
        "      self.payoff = (1, -1)\n",
        "\n",
        "    pass\n",
        "\n",
        "  def print_state(self):\n",
        "    if 'q1' in self.state or 'q2' in self.state:\n",
        "      print(self.state)\n",
        "    else:\n",
        "      arr = self.state[::-1]\n",
        "      for x in arr:\n",
        "          print('||', x[0], '||', x[1], '||', x[2], '||')\n"
      ],
      "metadata": {
        "id": "uhGSMX0mOGfK"
      },
      "execution_count": null,
      "outputs": []
    },
    {
      "cell_type": "markdown",
      "source": [
        "\n",
        "In Markov pure strategy the nash equalibrium is: up left (ul)"
      ],
      "metadata": {
        "id": "_fwtsVLCGrWs"
      }
    },
    {
      "cell_type": "code",
      "source": [
        "g = MarioGame()"
      ],
      "metadata": {
        "id": "3Ovgr8pgikqx"
      },
      "execution_count": null,
      "outputs": []
    },
    {
      "cell_type": "code",
      "source": [
        "g.ul()"
      ],
      "metadata": {
        "id": "gbmYuo1Bipvd"
      },
      "execution_count": null,
      "outputs": []
    },
    {
      "cell_type": "code",
      "source": [
        "g.print_state()"
      ],
      "metadata": {
        "id": "H8RffmyOZFlD",
        "outputId": "ed9520d4-c847-4b12-b499-f936772a7f66",
        "colab": {
          "base_uri": "https://localhost:8080/"
        }
      },
      "execution_count": null,
      "outputs": [
        {
          "output_type": "stream",
          "name": "stdout",
          "text": [
            "|| M || Q || 6 ||\n",
            "|| 1 || B || 3 ||\n"
          ]
        }
      ]
    },
    {
      "cell_type": "code",
      "source": [
        "g.payoff"
      ],
      "metadata": {
        "colab": {
          "base_uri": "https://localhost:8080/"
        },
        "id": "IoA5v_FRkA7i",
        "outputId": "10e2159f-ce6d-49f7-caf2-ef548cd7f879"
      },
      "execution_count": null,
      "outputs": [
        {
          "output_type": "execute_result",
          "data": {
            "text/plain": [
              "(0, 0)"
            ]
          },
          "metadata": {},
          "execution_count": 21
        }
      ]
    },
    {
      "cell_type": "code",
      "source": [
        "g.next_step()"
      ],
      "metadata": {
        "id": "JXWTqlE6DXKF"
      },
      "execution_count": null,
      "outputs": []
    },
    {
      "cell_type": "code",
      "source": [
        "g.print_state()"
      ],
      "metadata": {
        "id": "gehW_j4tbHIK",
        "outputId": "388b8510-6fa7-49c4-c896-3fa987fb3023",
        "colab": {
          "base_uri": "https://localhost:8080/"
        }
      },
      "execution_count": null,
      "outputs": [
        {
          "output_type": "stream",
          "name": "stdout",
          "text": [
            "q1\n"
          ]
        }
      ]
    },
    {
      "cell_type": "code",
      "source": [
        "g.payoff"
      ],
      "metadata": {
        "colab": {
          "base_uri": "https://localhost:8080/"
        },
        "id": "eJBM-QJDDcLS",
        "outputId": "a68d9a6e-3bec-413a-e5aa-d10eb1de4263"
      },
      "execution_count": null,
      "outputs": [
        {
          "output_type": "execute_result",
          "data": {
            "text/plain": [
              "(1, -1)"
            ]
          },
          "metadata": {},
          "execution_count": 24
        }
      ]
    }
  ]
}